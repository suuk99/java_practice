{
 "cells": [
  {
   "cell_type": "code",
   "execution_count": 1,
   "id": "578de9cb",
   "metadata": {},
   "outputs": [
    {
     "name": "stdout",
     "output_type": "stream",
     "text": [
      "DFJSKFLJ\n"
     ]
    }
   ],
   "source": [
    "# 소문자를 대문자로 변환하는 함수\n",
    "def change(string):\n",
    "    result = \"\"\n",
    "    \n",
    "    for i in string:\n",
    "        if ord(i) >= 97 and ord(i) <= 122:\n",
    "            result += chr(ord(i) - 32)\n",
    "            \n",
    "        else :\n",
    "            result += i\n",
    "            \n",
    "    return result\n",
    "\n",
    "print(change(\"dfjskflj\"))"
   ]
  },
  {
   "cell_type": "code",
   "execution_count": 2,
   "id": "2bdeaeda",
   "metadata": {},
   "outputs": [
    {
     "name": "stdout",
     "output_type": "stream",
     "text": [
      "dfsgdsg\n"
     ]
    }
   ],
   "source": [
    "# 대문자를 소문자로 변환하는 함수\n",
    "def change_(string):\n",
    "    result = \"\"\n",
    "    \n",
    "    for i in string:\n",
    "        if ord(i) >= 65 and ord(i) <= 90:\n",
    "            result += chr(ord(i) + 32)\n",
    "            \n",
    "        else :\n",
    "             result += i\n",
    "             \n",
    "    return result\n",
    "\n",
    "print(change_(\"DFSGDSG\"))\n",
    "        \n",
    "\n"
   ]
  },
  {
   "cell_type": "code",
   "execution_count": null,
   "id": "84562494",
   "metadata": {},
   "outputs": [
    {
     "name": "stdout",
     "output_type": "stream",
     "text": [
      "567\n"
     ]
    }
   ],
   "source": [
    "# 한글을 정수로 변환하는 함수\n",
    "def change_(string):\n",
    "    result = \"\"\n",
    "    korean_num = \"공일이삼사오육칠팔구\"\n",
    "    \n",
    "    for i in string:\n",
    "        result += str(korean_num.index(i))    # 인덱스번호 출력, 숫자로 더하면 연산되니 문자로 변환\n",
    "        \n",
    "    return int(result)      # 다시 정수로 변환환\n",
    "\n",
    "print(change_(\"오육칠\"))"
   ]
  },
  {
   "cell_type": "code",
   "execution_count": null,
   "id": "79daccd7",
   "metadata": {},
   "outputs": [
    {
     "name": "stdout",
     "output_type": "stream",
     "text": [
      "일이삼사\n"
     ]
    }
   ],
   "source": [
    "# 정수를 한글로 변환하는 함수\n",
    "def change_(num):\n",
    "    result = \"\"\n",
    "    korean_num = \"공일이삼사오육칠팔구\"\n",
    "    \n",
    "    for i in str(num):   # 숫자는 반복문을 돌릴 수 없어서 str로 문자열로 변환 / 1234 => '1234'\n",
    "        result += korean_num[int(i)]\n",
    "        \n",
    "    return result\n",
    "\n",
    "print(change_(1234))"
   ]
  }
 ],
 "metadata": {
  "kernelspec": {
   "display_name": "Python 3",
   "language": "python",
   "name": "python3"
  },
  "language_info": {
   "codemirror_mode": {
    "name": "ipython",
    "version": 3
   },
   "file_extension": ".py",
   "mimetype": "text/x-python",
   "name": "python",
   "nbconvert_exporter": "python",
   "pygments_lexer": "ipython3",
   "version": "3.11.9"
  }
 },
 "nbformat": 4,
 "nbformat_minor": 5
}
