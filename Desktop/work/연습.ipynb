{
 "cells": [
  {
   "cell_type": "code",
   "execution_count": 25,
   "id": "20952ca3",
   "metadata": {},
   "outputs": [
    {
     "name": "stdout",
     "output_type": "stream",
     "text": [
      "[1 2 3 4]\n",
      "[[1 2 3 4]\n",
      " [5 6 7 8]]\n",
      "[[[ 1  2  3  4]\n",
      "  [ 5  6  7  8]]\n",
      "\n",
      " [[ 9 10 11 12]\n",
      "  [ 1  2  3  4]]]\n",
      "4\n",
      "1\n",
      "(2, 2, 4)\n",
      "[1 2 3 4]\n",
      "[[ 6 12 13]\n",
      " [ 9 10 12]]\n"
     ]
    }
   ],
   "source": [
    "import numpy as np\n",
    "arr1 = np.array([1,2,3,4])\n",
    "print(arr1)\n",
    "arr2= np.array([[1,2,3,4],\n",
    "                [5,6,7,8]])\n",
    "print(arr2)\n",
    "arr3 = np.array([[[1,2,3,4],[5,6,7,8]],\n",
    "                  [[9,10,11,12],[1,2,3,4]]])\n",
    "print(arr3)\n",
    "\n",
    "print(arr1.size)\n",
    "print(arr1.ndim)\n",
    "print(arr3.shape)\n",
    "print(arr1)\n",
    "\n",
    "np.zeros((2,5))\n",
    "np.ones((1,3))\n",
    "\n",
    "np.random.seed(1)\n",
    "arr1= np.random.randint(1,26,(2,3))\n",
    "print(arr1)"
   ]
  },
  {
   "cell_type": "code",
   "execution_count": null,
   "id": "308ccc92",
   "metadata": {},
   "outputs": [],
   "source": []
  },
  {
   "cell_type": "code",
   "execution_count": 78,
   "metadata": {},
   "outputs": [
    {
     "name": "stdout",
     "output_type": "stream",
     "text": [
      "[[ -5   1   2  -2]\n",
      " [ -1   1  -5   5]\n",
      " [-10   6  -9   2]]\n",
      "[[ 1  2  3  4]\n",
      " [ 5  6  7  8]\n",
      " [ 9 10 11 12]\n",
      " [13 14 15 16]]\n",
      "2\n",
      "(3, 4)\n",
      "16\n",
      "[[ -5   2]\n",
      " [ -1  -5]\n",
      " [-10  -9]]\n",
      "[[ 5  7]\n",
      " [ 9 11]]\n",
      "[ -5  -2  -1  -5 -10  -9]\n"
     ]
    }
   ],
   "source": [
    "import numpy as np\n",
    "# -10 ~10 사이의 정수로 (3,4) 모양의 배열을 만들고 arr1에 저장\n",
    "np.random.seed(1)\n",
    "arr1 = np.random.randint(-10,10,(3,4))\n",
    "print(arr1)\n",
    "# 아래와 같은 2차원 배열을 만들고 arr2에 저장\n",
    "# 1,2,3,4\n",
    "# 5,6,7,8\n",
    "# 9,10,11,12\n",
    "# 13,14,15,16\n",
    "arr2 = np.array([[1,2,3,4],[5,6,7,8],\n",
    "                 [9,10,11,12],[13,14,15,16]])\n",
    "\n",
    "print(arr2)\n",
    "\n",
    "# 1. 각 배열의 차원, 모양, 원소의 개수를 확인\n",
    "print(arr2.ndim)\n",
    "print(arr1.shape)\n",
    "print(arr2.size)\n",
    "\n",
    "# 2. arr1에서 행은 모두 출력하고 열은 첫번째, 세번째만 출력\n",
    "print(arr1[::,:3:2])\n",
    "\n",
    "# 3. arr2에서 아래처럼 나오게 인덱싱해주세요\n",
    "# [5,7]\n",
    "# [9,11]\n",
    "print(arr2[1:3:,:3:2])\n",
    "\n",
    "# 4. arr1에서 음수만 출력\n",
    "print(arr1[arr1<0])"
   ]
  },
  {
   "cell_type": "code",
   "execution_count": 21,
   "id": "9f6f5bd6",
   "metadata": {},
   "outputs": [
    {
     "name": "stdout",
     "output_type": "stream",
     "text": [
      "Hello\n"
     ]
    }
   ],
   "source": [
    "print(\"Hello\")"
   ]
  }
 ],
 "metadata": {
  "kernelspec": {
   "display_name": "Python 3",
   "language": "python",
   "name": "python3"
  },
  "language_info": {
   "codemirror_mode": {
    "name": "ipython",
    "version": 3
   },
   "file_extension": ".py",
   "mimetype": "text/x-python",
   "name": "python",
   "nbconvert_exporter": "python",
   "pygments_lexer": "ipython3",
   "version": "3.11.9"
  }
 },
 "nbformat": 4,
 "nbformat_minor": 5
}
